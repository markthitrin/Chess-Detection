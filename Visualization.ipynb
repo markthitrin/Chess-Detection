{
 "cells": [
  {
   "cell_type": "code",
   "execution_count": null,
   "metadata": {},
   "outputs": [],
   "source": [
    "import chess\n",
    "import chess.svg\n",
    "\n",
    "from IPython.display import display, SVG"
   ]
  },
  {
   "cell_type": "code",
   "execution_count": 3,
   "metadata": {},
   "outputs": [
    {
     "name": "stdout",
     "output_type": "stream",
     "text": [
      "r n b q k b n r\n",
      "p p p p p p p p\n",
      ". . . . . . . .\n",
      ". . . . . . . .\n",
      ". . . . . . . .\n",
      ". . . . . . . .\n",
      "P P P P P P P P\n",
      "R N B Q K B N R\n"
     ]
    },
    {
     "ename": "NameError",
     "evalue": "name 'SVG' is not defined",
     "output_type": "error",
     "traceback": [
      "\u001b[1;31m---------------------------------------------------------------------------\u001b[0m",
      "\u001b[1;31mNameError\u001b[0m                                 Traceback (most recent call last)",
      "Cell \u001b[1;32mIn[3], line 4\u001b[0m\n\u001b[0;32m      1\u001b[0m board \u001b[38;5;241m=\u001b[39m chess\u001b[38;5;241m.\u001b[39mBoard()\n\u001b[0;32m      2\u001b[0m \u001b[38;5;28mprint\u001b[39m(board)\n\u001b[1;32m----> 4\u001b[0m display(\u001b[43mSVG\u001b[49m(chess\u001b[38;5;241m.\u001b[39msvg\u001b[38;5;241m.\u001b[39mboard(board\u001b[38;5;241m=\u001b[39mboard)))\n",
      "\u001b[1;31mNameError\u001b[0m: name 'SVG' is not defined"
     ]
    }
   ],
   "source": [
    "\n",
    "board = chess.Board()\n",
    "print(board)\n",
    "\n",
    "display(SVG(chess.svg.board(board=board)))"
   ]
  }
 ],
 "metadata": {
  "kernelspec": {
   "display_name": "base",
   "language": "python",
   "name": "python3"
  },
  "language_info": {
   "codemirror_mode": {
    "name": "ipython",
    "version": 3
   },
   "file_extension": ".py",
   "mimetype": "text/x-python",
   "name": "python",
   "nbconvert_exporter": "python",
   "pygments_lexer": "ipython3",
   "version": "3.12.4"
  }
 },
 "nbformat": 4,
 "nbformat_minor": 2
}
